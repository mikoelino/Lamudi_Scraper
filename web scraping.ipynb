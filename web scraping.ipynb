{
 "cells": [
  {
   "cell_type": "code",
   "execution_count": 1,
   "metadata": {},
   "outputs": [],
   "source": [
    "%reset -f"
   ]
  },
  {
   "cell_type": "code",
   "execution_count": 2,
   "metadata": {},
   "outputs": [],
   "source": [
    "import pandas as pd\n",
    "from selenium import webdriver\n",
    "from bs4 import BeautifulSoup\n",
    "import os\n",
    "import requests\n",
    "import datetime as dt\n",
    "import random\n",
    "import time\n",
    "\n",
    "from selenium.common.exceptions import TimeoutException\n",
    "from selenium.webdriver.support.ui import WebDriverWait\n",
    "from selenium.webdriver.support import expected_conditions as EC\n",
    "from selenium.webdriver.common.by import By"
   ]
  },
  {
   "cell_type": "code",
   "execution_count": 3,
   "metadata": {},
   "outputs": [],
   "source": [
    "cwd = os.getcwd()"
   ]
  },
  {
   "cell_type": "code",
   "execution_count": 4,
   "metadata": {},
   "outputs": [
    {
     "name": "stdout",
     "output_type": "stream",
     "text": [
      "/home/lotus/Desktop/project/untitled folder/lamudi\n"
     ]
    }
   ],
   "source": [
    "print(cwd)"
   ]
  },
  {
   "cell_type": "code",
   "execution_count": 11,
   "metadata": {},
   "outputs": [],
   "source": [
    "driver = webdriver.Chrome(\"/home/lotus/Desktop/project/untitled folder/lamudi/chromedriver\")\n",
    "driver.get(\"https://www.lamudi.co.id/riau/pekanbaru/buy/\")"
   ]
  },
  {
   "cell_type": "code",
   "execution_count": 5,
   "metadata": {},
   "outputs": [],
   "source": [
    "alamat_list = []\n",
    "kamar_list = []\n",
    "bangunan_list = []\n",
    "lahan_list = []\n",
    "harga_list = []"
   ]
  },
  {
   "cell_type": "code",
   "execution_count": 6,
   "metadata": {},
   "outputs": [],
   "source": [
    "my_page = driver.page_source\n",
    "my_html = BeautifulSoup(my_page, \"html.parser\")"
   ]
  },
  {
   "cell_type": "code",
   "execution_count": 12,
   "metadata": {},
   "outputs": [
    {
     "name": "stdout",
     "output_type": "stream",
     "text": [
      "Page: 2\n",
      "Page: 3\n",
      "Page: 4\n",
      "Page: 5\n",
      "Page: 6\n",
      "Page: 7\n",
      "Page: 8\n",
      "Page: 9\n",
      "Page: 10\n",
      "Page: 11\n",
      "Page: 12\n",
      "Page: 13\n",
      "Page: 14\n",
      "Page: 15\n",
      "Page: 16\n",
      "Page: 17\n",
      "Page: 18\n",
      "Page: 19\n",
      "Page: 20\n",
      "Page: 21\n",
      "Page: 22\n",
      "Page: 23\n",
      "Page: 24\n",
      "Page: 25\n",
      "Page: 26\n",
      "Page: 27\n",
      "Page: 28\n",
      "Page: 29\n",
      "Page: 30\n",
      "Page: 31\n",
      "Page: 32\n",
      "Page: 33\n",
      "Page: 34\n",
      "Page: 35\n",
      "Page: 36\n",
      "Page: 37\n",
      "Page: 38\n",
      "Page: 39\n",
      "End of loop\n"
     ]
    }
   ],
   "source": [
    "pagenum = 1\n",
    "\n",
    "while True:\n",
    "    \n",
    "    my_page = driver.page_source\n",
    "    my_html = BeautifulSoup(my_page, \"html.parser\") # get html\n",
    "    \n",
    "    containers = my_html.findAll('div', {'class':'small-9 columns js-listingContainer'}) # get containers\n",
    "    \n",
    "    for i in range(len(containers)):\n",
    "        \n",
    "        try:\n",
    "            add = containers[i].findAll('span', {'class':''})\n",
    "            for data in add:\n",
    "                address = data.text\n",
    "                alamat_list.append(address)\n",
    "                \n",
    "            \n",
    "        except:\n",
    "            address = 'unknown'\n",
    "            \n",
    "        try:\n",
    "            rm = containers[i].findAll('span', {'class':'KeyInformation-value_v2 KeyInformation-amenities-icon_v2 icon-bedrooms'})\n",
    "            for data in rm :\n",
    "                rooms = data.text\n",
    "                kamar_list.append(rooms)\n",
    "        except:\n",
    "            rooms = 'unknown'\n",
    "            \n",
    "        try:\n",
    "            bd = containers[i].findAll('span', {'class':'KeyInformation-value_v2 KeyInformation-amenities-icon_v2 icon-livingsize'})\n",
    "            for data in bd :\n",
    "                buildings = data.text\n",
    "                bangunan_list.append(buildings)\n",
    "        except:\n",
    "            buildings = 'unknown'\n",
    "        \n",
    "            \n",
    "        try:\n",
    "            ld = containers[i].findAll('span', {'class':'KeyInformation-value_v2 KeyInformation-amenities-icon_v2 icon-land_size'})\n",
    "            for data in ld :\n",
    "                lands = data.text\n",
    "                lahan_list.append(lands)\n",
    "        except:\n",
    "            lands = 'unknown'\n",
    "            \n",
    "        \n",
    "        try:\n",
    "            pr = containers[i].findAll('span', {'class':'PriceSection-FirstPrice'})\n",
    "            for data in pr :\n",
    "                price = data.text\n",
    "                harga_list.append(price)\n",
    "        except:\n",
    "            price = 'unknown'      \n",
    "        \n",
    "    \n",
    "    pagenum += 1\n",
    "    \n",
    "    driver.execute_script(\"0,document.body.scrollHeight;\")\n",
    "    \n",
    "    try:\n",
    "        driver.find_element_by_class_name(\"next\").click()\n",
    "        print('Page:', pagenum)\n",
    "    except:\n",
    "        break\n",
    "\n",
    "print('End of loop')"
   ]
  },
  {
   "cell_type": "code",
   "execution_count": 13,
   "metadata": {},
   "outputs": [],
   "source": [
    "### consolidate information in dataframe\n",
    "\n",
    "df = pd.DataFrame({'Alamat': pd.Series(alamat_list),\n",
    "                   'Kamar': pd.Series(kamar_list),\n",
    "                   'Bangunan': pd.Series(bangunan_list),\n",
    "                   'Lahan': pd.Series(lahan_list),\n",
    "                   'Harga': pd.Series(harga_list)\n",
    "\n",
    "                  })\n",
    "\n",
    "df.to_csv('properti_lamudi.csv', index=False)"
   ]
  },
  {
   "cell_type": "code",
   "execution_count": null,
   "metadata": {},
   "outputs": [],
   "source": []
  }
 ],
 "metadata": {
  "kernelspec": {
   "display_name": "Python 3",
   "language": "python",
   "name": "python3"
  },
  "language_info": {
   "codemirror_mode": {
    "name": "ipython",
    "version": 3
   },
   "file_extension": ".py",
   "mimetype": "text/x-python",
   "name": "python",
   "nbconvert_exporter": "python",
   "pygments_lexer": "ipython3",
   "version": "3.7.3"
  }
 },
 "nbformat": 4,
 "nbformat_minor": 2
}
